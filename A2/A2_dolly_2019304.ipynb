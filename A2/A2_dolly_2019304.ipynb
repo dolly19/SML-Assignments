{
  "nbformat": 4,
  "nbformat_minor": 0,
  "metadata": {
    "colab": {
      "provenance": []
    },
    "kernelspec": {
      "name": "python3",
      "display_name": "Python 3"
    },
    "language_info": {
      "name": "python"
    }
  },
  "cells": [
    {
      "cell_type": "code",
      "execution_count": null,
      "metadata": {
        "id": "pYuEW8JUWLyl"
      },
      "outputs": [],
      "source": [
        "import numpy as np\n",
        "from scipy.stats import bernoulli as bern\n",
        "import matplotlib.pyplot as plt"
      ]
    },
    {
      "cell_type": "markdown",
      "source": [
        "#Q1 Part A"
      ],
      "metadata": {
        "id": "uP_6SdhRXOdO"
      }
    },
    {
      "cell_type": "code",
      "source": [
        "def GenerateSample(mu1, mu2):\n",
        "  sampleClass1 = np.zeros((100,2))\n",
        "  sampleClass2 = np.zeros((100,2))\n",
        "  sample1_0 = bern.rvs(mu1[0] , size = 100)\n",
        "  sample1_1 = bern.rvs(mu1[1] , size = 100)\n",
        "  sample2_0 = bern.rvs(mu2[0] , size = 100)\n",
        "  sample2_1 = bern.rvs(mu2[1] , size = 100)\n",
        "  for i in range(100):\n",
        "    sampleClass1[i] = np.array([sample1_0[i] , sample1_1[i]])\n",
        "    sampleClass2[i] = np.array([sample2_0[i] , sample2_1[i]])\n",
        "  \n",
        "  return sampleClass1, sampleClass2"
      ],
      "metadata": {
        "id": "g13UXxo3XDDq"
      },
      "execution_count": null,
      "outputs": []
    },
    {
      "cell_type": "code",
      "source": [
        "mu1 = [0.5 , 0.8]\n",
        "mu2 = [0.9 , 0.2]\n",
        "sampleClass1, sampleClass2 = GenerateSample(mu1,mu2)"
      ],
      "metadata": {
        "id": "r6InaHLec9f3"
      },
      "execution_count": null,
      "outputs": []
    },
    {
      "cell_type": "code",
      "source": [
        "sampleClass1.shape"
      ],
      "metadata": {
        "colab": {
          "base_uri": "https://localhost:8080/"
        },
        "id": "qsT1zKEwWGr8",
        "outputId": "279aa9dd-1a7d-41d9-e298-3339b1f09e3b"
      },
      "execution_count": null,
      "outputs": [
        {
          "output_type": "execute_result",
          "data": {
            "text/plain": [
              "(100, 2)"
            ]
          },
          "metadata": {},
          "execution_count": 10
        }
      ]
    },
    {
      "cell_type": "markdown",
      "source": [
        "#Part B "
      ],
      "metadata": {
        "id": "bltTRxdpdUN-"
      }
    },
    {
      "cell_type": "code",
      "source": [
        "def computeMLE(sample):\n",
        "  np.random.shuffle(sample)\n",
        "  train = sample[:50,:]\n",
        "  test =  sample[50:,:]\n",
        "  MLE = [train[: ,0].mean() , train[: , 1].mean()]\n",
        "  return train, test, MLE"
      ],
      "metadata": {
        "id": "s7CifxPFdWwp"
      },
      "execution_count": null,
      "outputs": []
    },
    {
      "cell_type": "code",
      "source": [
        "trainClass1 , testClass1, MLE1= computeMLE(sampleClass1)\n",
        "trainClass2 , testClass2, MLE2= computeMLE(sampleClass2)\n",
        "print(\"MLE for class 1:\" ,MLE1)\n",
        "print(\"MLE for class 2:\" ,MLE2)"
      ],
      "metadata": {
        "colab": {
          "base_uri": "https://localhost:8080/"
        },
        "id": "GqExhY_1iKn1",
        "outputId": "f624de3b-0395-4c3c-b0fe-fe8a7197ce2f"
      },
      "execution_count": null,
      "outputs": [
        {
          "output_type": "stream",
          "name": "stdout",
          "text": [
            "MLE for class 1: [0.58, 0.9]\n",
            "MLE for class 2: [0.88, 0.16]\n"
          ]
        }
      ]
    },
    {
      "cell_type": "code",
      "source": [
        "def plottingMLE(train , c):\n",
        "  MLE= []\n",
        "  for i in range(1,51) : \n",
        "      temp = train[:i]\n",
        "      MLE.append(np.array([temp[: , 0].mean() , temp[: , 1].mean()]))\n",
        "  \n",
        "  MLE = np.array(MLE)\n",
        "  x = np.arange(0,50 , 1)\n",
        "  plt.plot(x , MLE[: , 0])\n",
        "  plt.plot(x , MLE[: , 1])\n",
        "  plt.title(f\"MLE vs n for Class{c}\")\n",
        "  plt.show()"
      ],
      "metadata": {
        "id": "cC4DjN3Vk7fK"
      },
      "execution_count": null,
      "outputs": []
    },
    {
      "cell_type": "code",
      "source": [
        "plottingMLE(trainClass1,1)"
      ],
      "metadata": {
        "colab": {
          "base_uri": "https://localhost:8080/",
          "height": 281
        },
        "id": "uMSRuWNQrVrl",
        "outputId": "11c265f1-f104-4092-9ab8-ea1d92340755"
      },
      "execution_count": null,
      "outputs": [
        {
          "output_type": "display_data",
          "data": {
            "text/plain": [
              "<Figure size 432x288 with 1 Axes>"
            ],
            "image/png": "[encoded data removed]"
          },
          "metadata": {
            "needs_background": "light"
          }
        }
      ]
    },
    {
      "cell_type": "markdown",
      "source": [
        "#Observation: \n",
        "For lower values of N, MLE gives incorrect estimates. However, as the size sample grows, i.e the value of n increases, the estimate of mle comes closer and closer to the real value of mean(p).\n",
        "For eg. for dimension 1, the value of mle comes close to 0.5 while for dimension 2, the value of mle comes closer to 0.8"
      ],
      "metadata": {
        "id": "TmFBlb1bSxhA"
      }
    },
    {
      "cell_type": "markdown",
      "source": [
        "#Part C"
      ],
      "metadata": {
        "id": "2BQYtskqrTZ9"
      }
    },
    {
      "cell_type": "code",
      "source": [
        "plottingMLE(trainClass2,2)"
      ],
      "metadata": {
        "colab": {
          "base_uri": "https://localhost:8080/",
          "height": 281
        },
        "id": "ZBqA_I8anEYO",
        "outputId": "8368122c-d1df-492a-8a3f-d0f93f19a882"
      },
      "execution_count": null,
      "outputs": [
        {
          "output_type": "display_data",
          "data": {
            "text/plain": [
              "<Figure size 432x288 with 1 Axes>"
            ],
            "image/png": "[encoded data removed]"
          },
          "metadata": {
            "needs_background": "light"
          }
        }
      ]
    },
    {
      "cell_type": "markdown",
      "source": [
        "#Part D"
      ],
      "metadata": {
        "id": "3qK_STN4rLmq"
      }
    },
    {
      "cell_type": "code",
      "source": [
        "def scatterPlot(sample,c):\n",
        "  # x = np.arange(0.01, 1.01, 0.01)\n",
        "  plt.scatter(sample[:,0], sample[:,1])\n",
        "  plt.title(f\"scatter plot for Class{c}\")\n",
        "  plt.show()"
      ],
      "metadata": {
        "id": "UCMzPo02qSry"
      },
      "execution_count": null,
      "outputs": []
    },
    {
      "cell_type": "code",
      "source": [
        "scatterPlot(sampleClass1,1)\n",
        "scatterPlot(sampleClass2,2)"
      ],
      "metadata": {
        "colab": {
          "base_uri": "https://localhost:8080/",
          "height": 545
        },
        "id": "Bk-cNojxvvfm",
        "outputId": "8b5c9a00-d733-4b86-99b6-e28b5bf83b86"
      },
      "execution_count": null,
      "outputs": [
        {
          "output_type": "display_data",
          "data": {
            "text/plain": [
              "<Figure size 432x288 with 1 Axes>"
            ],
            "image/png": "[encoded data removed]"
          },
          "metadata": {
            "needs_background": "light"
          }
        },
        {
          "output_type": "display_data",
          "data": {
            "text/plain": [
              "<Figure size 432x288 with 1 Axes>"
            ],
            "image/png": "[encoded data removed]"
          },
          "metadata": {
            "needs_background": "light"
          }
        }
      ]
    },
    {
      "cell_type": "markdown",
      "source": [
        "#Part E"
      ],
      "metadata": {
        "id": "-LcO7W3uRVnp"
      }
    },
    {
      "cell_type": "code",
      "source": [
        "# function to return discriminant given a sample x \n",
        "def discriminant(mu, sample, prior): \n",
        "  likeli = 0 \n",
        "  for idx, ele in enumerate(sample): \n",
        "    likelihood = ele * np.log(mu[idx]) + (1-ele) * np.log(1-mu[idx])\n",
        "    likeli = likeli + likelihood \n",
        "  \n",
        "  discri = likeli + np.log(prior)\n",
        "  return discri \n"
      ],
      "metadata": {
        "id": "f6PXAt1hMU5X"
      },
      "execution_count": null,
      "outputs": []
    },
    {
      "cell_type": "code",
      "source": [
        "m1 = MLE1\n",
        "m2 = MLE2"
      ],
      "metadata": {
        "id": "3ZOSbZ7eyTQH"
      },
      "execution_count": null,
      "outputs": []
    },
    {
      "cell_type": "code",
      "source": [
        "# function to count the number of samples correctly classified for a given class \n",
        "def count_correct(test_data, class_n, prior): \n",
        "  correct1 = 0\n",
        "  pred = []\n",
        "  for i in range(len(test_data)): \n",
        "    sample = test_data[i]\n",
        "    g1 = discriminant(m1, sample, prior)\n",
        "    g2 = discriminant(m2, sample, prior)\n",
        "    dicho = g1 - g2 \n",
        "    if(dicho > 0): \n",
        "      pred.append(1)\n",
        "    else: \n",
        "      pred.append(2)\n",
        "  for i in pred: \n",
        "    if(i == class_n): \n",
        "      correct1 = correct1 + 1 \n",
        "  return correct1 "
      ],
      "metadata": {
        "id": "7uTj45wig_n7"
      },
      "execution_count": null,
      "outputs": []
    },
    {
      "cell_type": "markdown",
      "source": [
        "Correct classification for class 1 "
      ],
      "metadata": {
        "id": "sSInWZJOSh-U"
      }
    },
    {
      "cell_type": "code",
      "source": [
        "print(\"No. of samples correctly classified in class 1 is : \")\n",
        "count_correct(testClass1, 1, 0.5)"
      ],
      "metadata": {
        "id": "b1qIKjqLheGw",
        "colab": {
          "base_uri": "https://localhost:8080/"
        },
        "outputId": "86d0f6c2-b106-4dd7-e3c4-424f4086daaf"
      },
      "execution_count": null,
      "outputs": [
        {
          "output_type": "stream",
          "name": "stdout",
          "text": [
            "No. of samples correctly classified in class 1 is : \n"
          ]
        },
        {
          "output_type": "execute_result",
          "data": {
            "text/plain": [
              "41"
            ]
          },
          "metadata": {},
          "execution_count": 25
        }
      ]
    },
    {
      "cell_type": "markdown",
      "source": [
        "Correct classification for class 2"
      ],
      "metadata": {
        "id": "eU31RAzXSlT0"
      }
    },
    {
      "cell_type": "code",
      "source": [
        "print(\"No. of samples correctly classified in class 2 is : \")\n",
        "count_correct(testClass2, 2, 0.5)"
      ],
      "metadata": {
        "id": "xBIvmb-ByNYx",
        "colab": {
          "base_uri": "https://localhost:8080/"
        },
        "outputId": "2165e302-fdf5-4220-bb60-3ad353529672"
      },
      "execution_count": null,
      "outputs": [
        {
          "output_type": "stream",
          "name": "stdout",
          "text": [
            "No. of samples correctly classified in class 2 is : \n"
          ]
        },
        {
          "output_type": "execute_result",
          "data": {
            "text/plain": [
              "43"
            ]
          },
          "metadata": {},
          "execution_count": 26
        }
      ]
    },
    {
      "cell_type": "markdown",
      "source": [
        "#Question 3 "
      ],
      "metadata": {
        "id": "8IVWEC7I3z5Z"
      }
    },
    {
      "cell_type": "markdown",
      "source": [
        "#Part A"
      ],
      "metadata": {
        "id": "4bqM5bSsjmsV"
      }
    },
    {
      "cell_type": "code",
      "source": [
        "# function to calculate mean of X \n",
        "def ret_mu(X): \n",
        "  mu = np.mean(X, axis = 1)\n",
        "  return mu "
      ],
      "metadata": {
        "id": "oa9iiivTWc0X"
      },
      "execution_count": null,
      "outputs": []
    },
    {
      "cell_type": "code",
      "source": [
        "# function to calculate centralized X \n",
        "def ret_centralizedX(X): \n",
        "  mu = ret_mu(X)\n",
        "  X_c = np.subtract(X.T , mu)\n",
        "  X_c = X_c.T \n",
        "  return X_c "
      ],
      "metadata": {
        "id": "28_mFg8dWikW"
      },
      "execution_count": null,
      "outputs": []
    },
    {
      "cell_type": "code",
      "source": [
        "# function to calculate covariance of X \n",
        "def ret_covariance(X):\n",
        "  X_c = ret_centralizedX(X)\n",
        "  S = np.dot(X_c, X_c.T)\n",
        "  S = S / len(S)\n",
        "  return S "
      ],
      "metadata": {
        "id": "W7E-yQ9oWsFW"
      },
      "execution_count": null,
      "outputs": []
    },
    {
      "cell_type": "code",
      "source": [
        "# function to calculate U matrix \n",
        "def ret_U(X): \n",
        "  S = ret_covariance(X)\n",
        "  eigenvalue, eigenvector=np.linalg.eig(S)\n",
        "  sorted_eigenvalues = np.sort(eigenvalue)\n",
        "  sorted_eigenvalues = eigenvector[:, eigenvalue.argsort()]\n",
        "  U = np.flip(sorted_eigenvalues, axis = 1) \n",
        "  return U "
      ],
      "metadata": {
        "id": "gx_A9FGdW9O5"
      },
      "execution_count": null,
      "outputs": []
    },
    {
      "cell_type": "code",
      "source": [
        "# function to calculate Y matrix \n",
        "def ret_Y(X): \n",
        "  U = ret_U(X)\n",
        "  X_c = ret_centralizedX(X)\n",
        "  Y = np.dot(U.T, X_c)\n",
        "  return Y "
      ],
      "metadata": {
        "id": "sAwNsVJXXY0J"
      },
      "execution_count": null,
      "outputs": []
    },
    {
      "cell_type": "markdown",
      "source": [
        "#Part B\n"
      ],
      "metadata": {
        "id": "Luxq8Jz9ji7T"
      }
    },
    {
      "cell_type": "code",
      "source": [
        "# function to calculate mse between U.Y + mean(X) and X \n",
        "def ret_MSE(X):\n",
        "  U = ret_U(X)\n",
        "  Y = ret_Y(X) \n",
        "  arr1 = np.dot(U, Y) \n",
        "  arr1 = np.add(arr1.T, mu)\n",
        "  arr1 = arr1.T\n",
        "  arr2 = X \n",
        "  mse = np.subtract(arr1, arr2)\n",
        "  mse = mse ** 2 \n",
        "  mse = np.sum(mse)\n",
        "  d = X.shape[0]\n",
        "  N = X.shape[1]\n",
        "  mse = mse / (d * N)\n",
        "  return mse "
      ],
      "metadata": {
        "id": "V-fFhKMYXfc-"
      },
      "execution_count": null,
      "outputs": []
    },
    {
      "cell_type": "markdown",
      "source": [
        "Example 1 - solved in theory "
      ],
      "metadata": {
        "id": "Y_Bb_98yYtS9"
      }
    },
    {
      "cell_type": "code",
      "source": [
        "X = [[6, 6], [0, 6]] \n",
        "X = np.array(X)\n",
        "X"
      ],
      "metadata": {
        "id": "BvDnP-n34RRq",
        "colab": {
          "base_uri": "https://localhost:8080/"
        },
        "outputId": "b8a1bff7-a814-4cb9-eaff-3d090d89c53a"
      },
      "execution_count": null,
      "outputs": [
        {
          "output_type": "execute_result",
          "data": {
            "text/plain": [
              "array([[6, 6],\n",
              "       [0, 6]])"
            ]
          },
          "metadata": {},
          "execution_count": 71
        }
      ]
    },
    {
      "cell_type": "code",
      "source": [
        "mu = ret_mu(X)\n",
        "mu "
      ],
      "metadata": {
        "id": "mKtClPZy4hl1",
        "colab": {
          "base_uri": "https://localhost:8080/"
        },
        "outputId": "2d29a88f-b851-4f8f-e552-da0d7724f6d4"
      },
      "execution_count": null,
      "outputs": [
        {
          "output_type": "execute_result",
          "data": {
            "text/plain": [
              "array([6., 3.])"
            ]
          },
          "metadata": {},
          "execution_count": 72
        }
      ]
    },
    {
      "cell_type": "code",
      "source": [
        "X_c = ret_centralizedX(X)\n",
        "X_c "
      ],
      "metadata": {
        "id": "jGXsg4_A4n41",
        "colab": {
          "base_uri": "https://localhost:8080/"
        },
        "outputId": "5b59c2c9-7037-486b-b6ea-942677316542"
      },
      "execution_count": null,
      "outputs": [
        {
          "output_type": "execute_result",
          "data": {
            "text/plain": [
              "array([[ 0.,  0.],\n",
              "       [-3.,  3.]])"
            ]
          },
          "metadata": {},
          "execution_count": 73
        }
      ]
    },
    {
      "cell_type": "code",
      "source": [
        "S = ret_covariance(X)\n",
        "S "
      ],
      "metadata": {
        "id": "LaEeEeG64n89",
        "colab": {
          "base_uri": "https://localhost:8080/"
        },
        "outputId": "50e6ad9c-a142-4a0d-9cc6-e3a50f4b23d6"
      },
      "execution_count": null,
      "outputs": [
        {
          "output_type": "execute_result",
          "data": {
            "text/plain": [
              "array([[0., 0.],\n",
              "       [0., 9.]])"
            ]
          },
          "metadata": {},
          "execution_count": 74
        }
      ]
    },
    {
      "cell_type": "code",
      "source": [
        "U = ret_U(X)\n",
        "U "
      ],
      "metadata": {
        "id": "apeRBps571tV",
        "colab": {
          "base_uri": "https://localhost:8080/"
        },
        "outputId": "42a253ec-df19-4fb5-9c20-346a9a93f1fd"
      },
      "execution_count": null,
      "outputs": [
        {
          "output_type": "execute_result",
          "data": {
            "text/plain": [
              "array([[0., 1.],\n",
              "       [1., 0.]])"
            ]
          },
          "metadata": {},
          "execution_count": 75
        }
      ]
    },
    {
      "cell_type": "code",
      "source": [
        "Y = ret_Y(X)\n",
        "Y "
      ],
      "metadata": {
        "id": "YHl9KlWV71vm",
        "colab": {
          "base_uri": "https://localhost:8080/"
        },
        "outputId": "b82d060b-1a8e-407d-c874-878dbdc7c534"
      },
      "execution_count": null,
      "outputs": [
        {
          "output_type": "execute_result",
          "data": {
            "text/plain": [
              "array([[-3.,  3.],\n",
              "       [ 0.,  0.]])"
            ]
          },
          "metadata": {},
          "execution_count": 76
        }
      ]
    },
    {
      "cell_type": "code",
      "source": [
        "mse = ret_MSE(X)\n",
        "mse \n"
      ],
      "metadata": {
        "id": "pyJoVsZv8kiT",
        "colab": {
          "base_uri": "https://localhost:8080/"
        },
        "outputId": "77e1aaec-f9c8-40f3-b3da-507570390135"
      },
      "execution_count": null,
      "outputs": [
        {
          "output_type": "execute_result",
          "data": {
            "text/plain": [
              "0.0"
            ]
          },
          "metadata": {},
          "execution_count": 77
        }
      ]
    },
    {
      "cell_type": "markdown",
      "source": [
        "#Part D\n"
      ],
      "metadata": {
        "id": "9lJYHxnG4F0J"
      }
    },
    {
      "cell_type": "code",
      "source": [
        "# function to generate multivariate gaussian \n",
        "def return_gauss(mean, covariance, d, N): \n",
        "  mean = mean \n",
        "  cov = covariance\n",
        "  X =  np.random.multivariate_normal(mean, cov, N).T \n",
        "  return X"
      ],
      "metadata": {
        "id": "DWEEebtlK4Qb"
      },
      "execution_count": null,
      "outputs": []
    },
    {
      "cell_type": "code",
      "source": [
        "from sklearn.datasets import make_spd_matrix \n",
        "# making a multivariate gaussian sample with d = 7 and N = 15 \n",
        "d = 7 \n",
        "N = 15 \n",
        "mean = np.random.rand(d)\n",
        "cov = make_spd_matrix(d, random_state = 0)\n",
        "X = return_gauss(mean, cov,  d, N)\n",
        "X "
      ],
      "metadata": {
        "id": "Ado8qF9BWDaG"
      },
      "execution_count": null,
      "outputs": []
    },
    {
      "cell_type": "code",
      "source": [
        "X.shape "
      ],
      "metadata": {
        "id": "Ebw0Zw4Xa5DR",
        "colab": {
          "base_uri": "https://localhost:8080/"
        },
        "outputId": "f7233c38-61a2-496c-9b1f-133c474e5206"
      },
      "execution_count": null,
      "outputs": [
        {
          "output_type": "execute_result",
          "data": {
            "text/plain": [
              "(7, 15)"
            ]
          },
          "metadata": {},
          "execution_count": 49
        }
      ]
    },
    {
      "cell_type": "markdown",
      "source": [
        "#Part E\n"
      ],
      "metadata": {
        "id": "hUbdHaIe4Lvx"
      }
    },
    {
      "cell_type": "code",
      "source": [
        "# function to compute U matrix\n",
        "def compute_U(X): \n",
        "  d = np.shape(X)[0]\n",
        "  N = np.shape(X)[1]\n",
        "  mu = np.mean(X, axis = 1)\n",
        "  X_c = np.subtract(X.T , mu)\n",
        "  X_c = X_c.T \n",
        "  S = np.dot(X_c, X_c.T)\n",
        "  S = S / N\n",
        "  eigenvalue, eigenvector=np.linalg.eig(S)\n",
        "  if(d > N): \n",
        "    _, eigenvalue, eigenvector = np.linalg.svd(S)\n",
        "  eigenvalues_sorted = np.sort(eigenvalue)\n",
        "  eigenvectors_sorted = eigenvector[:, eigenvalue.argsort()]\n",
        "  U = eigenvector \n",
        "  U = np.flip(eigenvectors_sorted, axis = 1)\n",
        "  return U "
      ],
      "metadata": {
        "id": "Gi9-pu18WuNo"
      },
      "execution_count": null,
      "outputs": []
    },
    {
      "cell_type": "code",
      "source": [
        "print(compute_U(X))"
      ],
      "metadata": {
        "id": "xmT5-IeOXiFH"
      },
      "execution_count": null,
      "outputs": []
    },
    {
      "cell_type": "markdown",
      "source": [
        "#Part F\n"
      ],
      "metadata": {
        "id": "5-GJ_KsV4N9r"
      }
    },
    {
      "cell_type": "code",
      "source": [
        "# function to compute MSe between UY + mean(X) and X. Here, Y = U’centralized(X).\n",
        "def MSE(X): \n",
        "  d = np.shape(X)[0]\n",
        "  N = np.shape(X)[1]\n",
        "  mu = np.mean(X, axis = 1)\n",
        "  X_c = np.subtract(X.T , mu)\n",
        "  X_c = X_c.T \n",
        "  S = np.dot(X_c, X_c.T)\n",
        "  S = S / np.shape(X)[1]\n",
        "  eigenvalue, eigenvector=np.linalg.eig(S)\n",
        "  if(d > N): \n",
        "    _, eigenvalue, eigenvector = np.linalg.svd(S)\n",
        "  eigenvalues_sorted = np.sort(eigenvalue)\n",
        "  eigenvectors_sorted = eigenvector[:, eigenvalue.argsort()]\n",
        "  U = eigenvector \n",
        "  U = np.flip(eigenvectors_sorted, axis = 1)\n",
        "  Y = np.dot(U.T, X_c)\n",
        "  arr1 = np.dot(U, Y) \n",
        "  arr1 = np.add(arr1.T, mu)\n",
        "  arr1 = arr1.T \n",
        "  arr2 = X \n",
        "  mse = arr1 - arr2 \n",
        "  mse = mse ** 2 \n",
        "  mse = mse.sum()\n",
        "  d = np.shape(X)[0]\n",
        "  N = np.shape(X)[1]\n",
        "  mse = mse / (N * d)\n",
        "  return mse "
      ],
      "metadata": {
        "id": "DZaGcUQfXl8f"
      },
      "execution_count": null,
      "outputs": []
    },
    {
      "cell_type": "code",
      "source": [
        "MSE(X)"
      ],
      "metadata": {
        "id": "Hxl0oWNAYUVs"
      },
      "execution_count": null,
      "outputs": []
    },
    {
      "cell_type": "code",
      "source": [
        "def return_MSE(X):\n",
        "  d = np.shape(X)[0]\n",
        "  N = np.shape(X)[1] \n",
        "  mu = np.mean(X, axis = 1)\n",
        "  X_c = np.subtract(X.T , mu)\n",
        "  X_c = X_c.T \n",
        "  S = np.dot(X_c, X_c.T)\n",
        "  S = S / np.shape(X)[1]\n",
        "  eigenvalue, eigenvector=np.linalg.eig(S)\n",
        "  if(d > N): \n",
        "    _, eigenvalue, eigenvector = np.linalg.svd(S)\n",
        "  eigenvalues_sorted = np.sort(eigenvalue)\n",
        "  eigenvectors_sorted = eigenvector[:, eigenvalue.argsort()]\n",
        "  U = eigenvector \n",
        "  U = np.flip(eigenvectors_sorted, axis = 1)\n",
        "  d = np.shape(X)[0]\n",
        "  N = np.shape(X)[1]\n",
        "  mse_vals = []\n",
        "  for i in range(d):\n",
        "    U_p = U[:, :i+1]\n",
        "    Y_p = np.dot(U_p.T, X_c)\n",
        "    arr1 = np.dot(U_p, Y_p) \n",
        "    arr1 = np.add(arr1.T, mu)\n",
        "    arr1 = arr1.T \n",
        "    arr2 = X \n",
        "    mse = np.subtract(arr1, arr2)\n",
        "    mse = mse ** 2 \n",
        "    mse = np.sum(mse)\n",
        "    mse = mse / (N * (i+1))\n",
        "    mse_vals.append(mse)\n",
        "  mse_vals = np.array(mse_vals)\n",
        "  return mse_vals"
      ],
      "metadata": {
        "id": "hixkeutFYc9r"
      },
      "execution_count": null,
      "outputs": []
    },
    {
      "cell_type": "code",
      "source": [
        "vals = return_MSE(X)\n",
        "print(vals)"
      ],
      "metadata": {
        "id": "kHYNEv89boHO"
      },
      "execution_count": null,
      "outputs": []
    },
    {
      "cell_type": "markdown",
      "source": [
        "#Part G"
      ],
      "metadata": {
        "id": "PvgAIxm7lAoa"
      }
    },
    {
      "cell_type": "code",
      "source": [
        "pca_components = list(range(1,  d+1))\n",
        "plt.plot(pca_components, vals)\n",
        "plt.ylabel('MSE')\n",
        "plt.xlabel('Number of Principal components')\n",
        "plt.title('            MSE v/s Number of Principal components graph')\n",
        "plt.show()"
      ],
      "metadata": {
        "id": "jNMO8tM-b-qs"
      },
      "execution_count": null,
      "outputs": []
    },
    {
      "cell_type": "code",
      "source": [
        "plt.scatter(pca_components, vals, c = 'm')\n",
        "plt.ylabel('MSE')\n",
        "plt.xlabel('Number of Principal components')\n",
        "plt.title('            MSE v/s Number of Principal components graph')\n",
        "plt.show()"
      ],
      "metadata": {
        "id": "yav-xON2cWfV"
      },
      "execution_count": null,
      "outputs": []
    },
    {
      "cell_type": "code",
      "source": [
        "#Function to perform d-g parts for given values of d, N, mean and covariance \n",
        "def matrix_gauss(d, N, mean, cov): \n",
        "  X = return_gauss(mean, cov, d, N)\n",
        "  print(\"The d-dimensional multivariate Gaussian matrix with N realizations is : \", X)\n",
        "  U = compute_U(X)\n",
        "  print(\"The matrix U is : \", U)\n",
        "  mse = MSE(X)\n",
        "  print(\"The MSE between UY + mean(X) and X is : \", mse)\n",
        "  vals = return_MSE(X)\n",
        "  pca = list(range(1, d + 1))\n",
        "  print(\"The MSE for each case between X and UpY + mean(X), where Y = Up’centralized(X)) is : \", vals)\n",
        "  print(\"The plot for MSE vs. number of principal components is : \")\n",
        "  plt.plot(pca, vals, c = 'm')\n",
        "  plt.ylabel('MSE')\n",
        "  plt.xlabel('Number of Principal components')\n",
        "  plt.title('MSE v/s Number of Principal components graph')\n",
        "  plt.show()\n",
        "  plt.scatter(pca, vals, c = 'c')\n",
        "  plt.ylabel('MSE')\n",
        "  plt.xlabel('Number of Principal components')\n",
        "  plt.title('MSE v/s Number of Principal components graph')\n",
        "  plt.show()"
      ],
      "metadata": {
        "id": "VbffHz_UKv-e"
      },
      "execution_count": null,
      "outputs": []
    },
    {
      "cell_type": "markdown",
      "source": [
        "Example 1 "
      ],
      "metadata": {
        "id": "OY5HJx0Ffm5h"
      }
    },
    {
      "cell_type": "code",
      "source": [
        "d1 = 2\n",
        "N1 = 5  \n",
        "mean = np.random.rand(d1)\n",
        "cov = make_spd_matrix(d1, random_state = 0)\n",
        "matrix_gauss(d1, N1, mean, cov)"
      ],
      "metadata": {
        "id": "RQ46sgJme_5S",
        "colab": {
          "base_uri": "https://localhost:8080/",
          "height": 715
        },
        "outputId": "cfb3f9ee-2577-481c-bc53-47ed043ceb5d"
      },
      "execution_count": null,
      "outputs": [
        {
          "output_type": "stream",
          "name": "stdout",
          "text": [
            "The d-dimensional multivariate Gaussian matrix with N realizations is :  [[ 2.86512791 -3.29426721 -0.69783201  0.07046951 -0.80605161]\n",
            " [ 1.19467828  1.19361337  0.5274506   0.88165912  1.08894846]]\n",
            "The matrix U is :  [[ 0.99997798 -0.00663559]\n",
            " [ 0.00663559  0.99997798]]\n",
            "The MSE between UY + mean(X) and X is :  2.0954117794933126e-32\n",
            "The MSE for each case between X and UpY + mean(X), where Y = Up’centralized(X)) is :  [6.34353499e-02 2.09541178e-32]\n",
            "The plot for MSE vs. number of principal components is : \n"
          ]
        },
        {
          "output_type": "display_data",
          "data": {
            "text/plain": [
              "<Figure size 432x288 with 1 Axes>"
            ],
            "image/png": "[encoded data removed]"
          },
          "metadata": {
            "needs_background": "light"
          }
        },
        {
          "output_type": "display_data",
          "data": {
            "text/plain": [
              "<Figure size 432x288 with 1 Axes>"
            ],
            "image/png": "[encoded data removed]"
          },
          "metadata": {
            "needs_background": "light"
          }
        }
      ]
    },
    {
      "cell_type": "markdown",
      "source": [
        "Example 2 "
      ],
      "metadata": {
        "id": "UVf37s92foc3"
      }
    },
    {
      "cell_type": "code",
      "source": [
        "d2 = 15 \n",
        "N2 = 20 \n",
        "mean = np.random.rand(d2)\n",
        "cov = make_spd_matrix(d2, random_state = 0)\n",
        "matrix_gauss(d2, N2, mean, cov)"
      ],
      "metadata": {
        "id": "YI1ZwOXjL9my"
      },
      "execution_count": null,
      "outputs": []
    },
    {
      "cell_type": "markdown",
      "source": [
        "\n",
        "Example 3 "
      ],
      "metadata": {
        "id": "Lc42oNSTfsi1"
      }
    },
    {
      "cell_type": "code",
      "source": [
        "d3 = 20\n",
        "N3 = 8 \n",
        "mean = np.random.rand(d3)\n",
        "cov = make_spd_matrix(d3, random_state = 0)\n",
        "matrix_gauss(d3, N3, mean, cov)"
      ],
      "metadata": {
        "id": "ogk1jMejL3tc"
      },
      "execution_count": null,
      "outputs": []
    }
  ]
}